{
 "cells": [
  {
   "cell_type": "code",
   "execution_count": 357,
   "metadata": {},
   "outputs": [],
   "source": [
    "import matplotlib.pyplot as plt\n",
    "import numpy as np\n",
    "import astropy.units as u\n",
    "from astropy.coordinates import SkyCoord, Angle\n",
    "from gammapy.data import DataStore\n",
    "from gammapy.irf import EffectiveAreaTable2D, EnergyDispersion2D, EnergyDependentMultiGaussPSF, Background3D\n",
    "from gammapy.spectrum.models import PowerLaw\n",
    "from gammapy.image.models import SkyGaussian\n",
    "from gammapy.cube import MapFit, MapEvaluator, PSFKernel\n",
    "from gammapy.cube import make_map_exposure_true_energy, make_map_background_irf\n",
    "from gammapy.maps import WcsGeom, MapAxis, WcsNDMap, Map\n",
    "from gammapy.cube.models import SkyModel, SkyModels\n"
   ]
  },
  {
   "cell_type": "code",
   "execution_count": 358,
   "metadata": {},
   "outputs": [],
   "source": [
    "#load irfs...\n",
    "def get_irfs():\n",
    "    filename = \"$GAMMAPY_DATA/cta-1dc/caldb/data/cta/1dc/bcf/South_z20_50h/irf_file.fits\"\n",
    "    psf = EnergyDependentMultiGaussPSF.read(filename, hdu='POINT SPREAD FUNCTION')\n",
    "    aeff = EffectiveAreaTable2D.read(filename, hdu='EFFECTIVE AREA')\n",
    "    edisp = EnergyDispersion2D.read(filename, hdu='ENERGY DISPERSION')\n",
    "    bkg = Background3D.read(filename, hdu='BACKGROUND')\n",
    "    return dict(psf=psf, aeff=aeff, edisp=edisp, bkg=bkg)\n",
    "\n",
    "irfs=get_irfs()"
   ]
  },
  {
   "cell_type": "code",
   "execution_count": 359,
   "metadata": {},
   "outputs": [],
   "source": [
    "#define the geom\n",
    "src=SkyCoord(280.4652, -32.8884, unit='deg', frame='galactic')\n",
    "elow = 0.8\n",
    "ehigh = 20.0\n",
    "energy_axis = MapAxis.from_bounds(elow, ehigh, 30, name='energy', unit='TeV', interp='log')\n",
    "geom3d = WcsGeom.create(binsz=0.5, skydir=src, width=7.0, coordsys='GAL',\n",
    "                       axes=[energy_axis])\n",
    "energy_axis_1bin = MapAxis.from_bounds(elow, ehigh, 1, name='energy', unit='TeV', interp='log')\n",
    "geom2d = geom3d.to_image().to_cube(axes=[energy_axis_1bin])"
   ]
  },
  {
   "cell_type": "code",
   "execution_count": 360,
   "metadata": {},
   "outputs": [],
   "source": [
    "#The models\n",
    "\n",
    "ampl = 0.5e-11/(u.cm *u.cm * u.s *u.TeV)\n",
    "sig = 1.0 * u.deg\n",
    "\n",
    "spatial_model = SkyGaussian(\n",
    "    lon_0=src.galactic.l,\n",
    "    lat_0=src.galactic.b,\n",
    "    sigma=sig,\n",
    ")\n",
    "spectral_model = PowerLaw(\n",
    "    index=2.0,\n",
    "    amplitude=ampl,\n",
    "    reference='1 TeV',\n",
    ")\n",
    "sky_model = SkyModel(\n",
    "    spatial_model=spatial_model,\n",
    "    spectral_model=spectral_model,\n",
    ")"
   ]
  },
  {
   "cell_type": "markdown",
   "metadata": {},
   "source": [
    "### First get the exposure and background"
   ]
  },
  {
   "cell_type": "code",
   "execution_count": 361,
   "metadata": {},
   "outputs": [],
   "source": [
    "livetime = 10 * u.hour\n",
    "offset_max = 2.3 * u.deg\n",
    "pointing=src\n",
    "\n",
    "exposure_map3d = make_map_exposure_true_energy(\n",
    "        pointing=pointing, livetime=livetime, aeff=irfs['aeff'],\n",
    "        geom=geom3d\n",
    "        )\n",
    "    \n",
    "background3d = make_map_background_irf(\n",
    "        pointing=pointing, ontime=livetime, bkg=irfs[\"bkg\"], geom=geom3d\n",
    "        ) "
   ]
  },
  {
   "cell_type": "markdown",
   "metadata": {},
   "source": [
    "Transform to 2D, doing all the weird ugly jugglery"
   ]
  },
  {
   "cell_type": "code",
   "execution_count": 362,
   "metadata": {},
   "outputs": [],
   "source": [
    "background2d =  background3d.sum_over_axes()\n",
    "b1 = np.reshape(background2d.data,(1,background2d.data.shape[0],background2d.data.shape[0]))\n",
    "background = WcsNDMap(geom2d, b1)"
   ]
  },
  {
   "cell_type": "code",
   "execution_count": 363,
   "metadata": {},
   "outputs": [],
   "source": [
    "from gammapy.cube.exposure import _map_spectrum_weight\n",
    "wt = _map_spectrum_weight(exposure_map3d, spectral_model)\n",
    "exposure2d = wt.sum_over_axes()\n",
    "e1 = np.reshape(exposure2d.data,(1,exposure2d.data.shape[0],exposure2d.data.shape[0]))\n",
    "exposure_map = WcsNDMap(geom2d, e1, unit=exposure_map3d.unit)"
   ]
  },
  {
   "cell_type": "code",
   "execution_count": 364,
   "metadata": {},
   "outputs": [
    {
     "data": {
      "text/plain": [
       "WcsNDMap\n",
       "\n",
       "\tgeom  : WcsGeom \n",
       " \taxes  : lon, lat, energy\n",
       "\tshape : (14, 14, 1)\n",
       "\tndim  : 3\n",
       "\tunit  : '' \n",
       "\tdtype : float64 "
      ]
     },
     "execution_count": 364,
     "metadata": {},
     "output_type": "execute_result"
    }
   ],
   "source": [
    "background"
   ]
  },
  {
   "cell_type": "markdown",
   "metadata": {},
   "source": [
    "### Do the simulations"
   ]
  },
  {
   "cell_type": "code",
   "execution_count": 365,
   "metadata": {},
   "outputs": [
    {
     "name": "stdout",
     "output_type": "stream",
     "text": [
      "CPU times: user 6.87 ms, sys: 2.15 ms, total: 9.02 ms\n",
      "Wall time: 6.75 ms\n"
     ]
    }
   ],
   "source": [
    "%%time\n",
    "evaluator = MapEvaluator(sky_model, exposure_map)\n",
    "npred = evaluator.compute_npred()"
   ]
  },
  {
   "cell_type": "code",
   "execution_count": 367,
   "metadata": {},
   "outputs": [
    {
     "name": "stdout",
     "output_type": "stream",
     "text": [
      "CPU times: user 4.99 ms, sys: 53 ms, total: 58 ms\n",
      "Wall time: 56.8 ms\n"
     ]
    }
   ],
   "source": [
    "%%time\n",
    "\n",
    "n_obs = 25\n",
    "mu_b = 1.0\n",
    "sig_b = 0.2\n",
    "\n",
    "exp_map = []\n",
    "bkg_map = []\n",
    "counts_map = []\n",
    "back_factor = [] #Unknown back normalisation in real life\n",
    "for i in range(n_obs):    \n",
    "    \n",
    "    factor_b = np.random.normal(mu_b, sig_b)\n",
    "    if factor_b < 0.0:\n",
    "        print(factor_b)\n",
    "        continue\n",
    "        \n",
    "    \n",
    "    back_data = background.data * factor_b\n",
    "    \n",
    "    rng = np.random.RandomState()\n",
    "    counts = rng.poisson(npred)\n",
    "    counts = counts + back_data\n",
    "    \n",
    "    cmap = WcsNDMap(geom2d, counts)\n",
    "    exp_map.append(exposure_map)\n",
    "    bkg_map.append(background)\n",
    "    counts_map.append(cmap)\n",
    "    back_factor.append(factor_b)\n",
    "    \n"
   ]
  },
  {
   "cell_type": "code",
   "execution_count": 369,
   "metadata": {},
   "outputs": [],
   "source": [
    "from importlib import reload\n",
    "import MyLikelihood_3d\n",
    "reload (MyLikelihood_3d)\n",
    "from MyLikelihood_3d import *"
   ]
  },
  {
   "cell_type": "markdown",
   "metadata": {},
   "source": [
    "#### Sanity check - do we get back proper bk with same initial parameters?"
   ]
  },
  {
   "cell_type": "code",
   "execution_count": 370,
   "metadata": {},
   "outputs": [],
   "source": [
    "mle=MyLikelihood(count_list=counts_map, exposure_list=exp_map, background_list=bkg_map)\n",
    "\n",
    "#Initial calling parameters\n",
    "lon0 =  src.galactic.l \n",
    "lat0 = src.galactic.b \n",
    "sigma1 = sig\n",
    "amp1 = ampl\n",
    "\n",
    "maps, comp_bk = mle.calc_bk(lon0, lat0, sigma1, amp1)"
   ]
  },
  {
   "cell_type": "code",
   "execution_count": 371,
   "metadata": {},
   "outputs": [],
   "source": [
    "comp_bk_ds1 = comp_bk\n",
    "back_factor_ds1 = back_factor"
   ]
  },
  {
   "cell_type": "code",
   "execution_count": 374,
   "metadata": {},
   "outputs": [
    {
     "name": "stderr",
     "output_type": "stream",
     "text": [
      "No handles with labels found to put in legend.\n"
     ]
    },
    {
     "data": {
      "text/plain": [
       "<matplotlib.legend.Legend at 0x182529f710>"
      ]
     },
     "execution_count": 374,
     "metadata": {},
     "output_type": "execute_result"
    },
    {
     "data": {
      "image/png": "[encoded data removed]",
      "text/plain": [
       "<matplotlib.figure.Figure at 0x182529f6d8>"
      ]
     },
     "metadata": {},
     "output_type": "display_data"
    }
   ],
   "source": [
    "plt.plot(back_factor_ds1, comp_bk_ds1, \"o\")\n",
    "#plt.plot(back_factor_ds2, comp_bk_ds2, \"o\", label=\"12%\")\n",
    "plt.xlabel(\"simulated b_k\", fontsize = 'large')\n",
    "plt.ylabel(\"computed b_k\", fontsize = 'large')\n",
    "plt.plot(back_factor, back_factor, linestyle='dashdot')\n",
    "plt.legend()"
   ]
  },
  {
   "cell_type": "code",
   "execution_count": 375,
   "metadata": {},
   "outputs": [
    {
     "data": {
      "text/plain": [
       "0.058067982863675455"
      ]
     },
     "execution_count": 375,
     "metadata": {},
     "output_type": "execute_result"
    }
   ],
   "source": [
    "npred.sum()/background.data.sum()"
   ]
  },
  {
   "cell_type": "code",
   "execution_count": 263,
   "metadata": {},
   "outputs": [
    {
     "data": {
      "text/plain": [
       "[<matplotlib.lines.Line2D at 0x18224b4358>]"
      ]
     },
     "execution_count": 263,
     "metadata": {},
     "output_type": "execute_result"
    },
    {
     "data": {
      "image/png": "[encoded data removed]",
      "text/plain": [
       "<matplotlib.figure.Figure at 0x18224b42b0>"
      ]
     },
     "metadata": {},
     "output_type": "display_data"
    }
   ],
   "source": [
    "plt.plot(back_factor_ds1,(np.array(back_factor_ds1)-np.array(comp_bk_ds1))/back_factor_ds1, \"o\")\n",
    "plt.plot(back_factor_ds1,(np.array(back_factor_ds1)-np.array(comp_bk_ds1))/back_factor_ds1, \"o\")"
   ]
  },
  {
   "cell_type": "code",
   "execution_count": 264,
   "metadata": {},
   "outputs": [
    {
     "data": {
      "text/plain": [
       "[<matplotlib.lines.Line2D at 0x18224b45c0>]"
      ]
     },
     "execution_count": 264,
     "metadata": {},
     "output_type": "execute_result"
    },
    {
     "data": {
      "image/png": "[encoded data removed]",
      "text/plain": [
       "<matplotlib.figure.Figure at 0x182256dba8>"
      ]
     },
     "metadata": {},
     "output_type": "display_data"
    }
   ],
   "source": [
    "plt.plot(back_factor, comp_bk, \"o\")\n",
    "plt.xlabel(\"simulated factor\")\n",
    "plt.ylabel(\"computed factor\")\n",
    "plt.plot(back_factor, back_factor, linestyle='dashdot')"
   ]
  },
  {
   "cell_type": "code",
   "execution_count": null,
   "metadata": {},
   "outputs": [],
   "source": []
  },
  {
   "cell_type": "code",
   "execution_count": 265,
   "metadata": {},
   "outputs": [
    {
     "data": {
      "text/plain": [
       "[<matplotlib.lines.Line2D at 0x1822771128>]"
      ]
     },
     "execution_count": 265,
     "metadata": {},
     "output_type": "execute_result"
    },
    {
     "data": {
      "image/png": "[encoded data removed]",
      "text/plain": [
       "<matplotlib.figure.Figure at 0x18227710b8>"
      ]
     },
     "metadata": {},
     "output_type": "display_data"
    }
   ],
   "source": [
    "plt.plot(back_factor, comp_bk, \"o\")\n",
    "plt.xlabel(\"simulated factor\")\n",
    "plt.ylabel(\"computed factor\")\n",
    "plt.plot(back_factor, back_factor, linestyle='dashdot')"
   ]
  },
  {
   "cell_type": "code",
   "execution_count": 266,
   "metadata": {},
   "outputs": [
    {
     "data": {
      "text/plain": [
       "[<matplotlib.lines.Line2D at 0x18228b5390>]"
      ]
     },
     "execution_count": 266,
     "metadata": {},
     "output_type": "execute_result"
    },
    {
     "data": {
      "image/png": "[encoded data removed]",
      "text/plain": [
       "<matplotlib.figure.Figure at 0x18223237f0>"
      ]
     },
     "metadata": {},
     "output_type": "display_data"
    }
   ],
   "source": [
    "plt.plot(back_factor,np.divide(np.array(back_factor)-np.array(comp_bk),back_factor), \"o\")"
   ]
  },
  {
   "cell_type": "code",
   "execution_count": 267,
   "metadata": {},
   "outputs": [
    {
     "name": "stdout",
     "output_type": "stream",
     "text": [
      "0.0023809523809523725\n"
     ]
    }
   ],
   "source": [
    "epsilon=5e-2\n",
    "Nbins = 2e7\n",
    "print(1/(1+epsilon)-(1-epsilon))"
   ]
  },
  {
   "cell_type": "code",
   "execution_count": null,
   "metadata": {},
   "outputs": [],
   "source": []
  },
  {
   "cell_type": "code",
   "execution_count": 268,
   "metadata": {},
   "outputs": [],
   "source": [
    "Sb = np.divide(maps[1].data, background.data)"
   ]
  },
  {
   "cell_type": "code",
   "execution_count": 269,
   "metadata": {},
   "outputs": [
    {
     "data": {
      "text/plain": [
       "9.155164178846238"
      ]
     },
     "execution_count": 269,
     "metadata": {},
     "output_type": "execute_result"
    }
   ],
   "source": [
    "Sb.sum()"
   ]
  },
  {
   "cell_type": "code",
   "execution_count": 270,
   "metadata": {},
   "outputs": [],
   "source": [
    "Sbmap = WcsNDMap(geom2d, Sb*Sb)"
   ]
  },
  {
   "cell_type": "code",
   "execution_count": 271,
   "metadata": {},
   "outputs": [
    {
     "data": {
      "text/plain": [
       "1.681112879694628"
      ]
     },
     "execution_count": 271,
     "metadata": {},
     "output_type": "execute_result"
    }
   ],
   "source": [
    "Sbmap.data.sum()"
   ]
  },
  {
   "cell_type": "code",
   "execution_count": 272,
   "metadata": {},
   "outputs": [
    {
     "data": {
      "text/plain": [
       "(<matplotlib.figure.Figure at 0x18220f0e48>,\n",
       " <matplotlib.axes._subplots.WCSAxesSubplot at 0x1822892278>,\n",
       " <matplotlib.colorbar.Colorbar at 0x18229d8828>)"
      ]
     },
     "execution_count": 272,
     "metadata": {},
     "output_type": "execute_result"
    },
    {
     "data": {
      "image/png": "[encoded data removed]",
      "text/plain": [
       "<matplotlib.figure.Figure at 0x18220f0e48>"
      ]
     },
     "metadata": {},
     "output_type": "display_data"
    }
   ],
   "source": [
    "Sbmap.sum_over_axes().plot(add_cbar=True)"
   ]
  },
  {
   "cell_type": "code",
   "execution_count": 273,
   "metadata": {},
   "outputs": [
    {
     "data": {
      "text/plain": [
       "0.33129148078922777"
      ]
     },
     "execution_count": 273,
     "metadata": {},
     "output_type": "execute_result"
    }
   ],
   "source": [
    "20239.67631932381/background.data.sum()"
   ]
  },
  {
   "cell_type": "markdown",
   "metadata": {},
   "source": [
    "Now lets fits and see"
   ]
  },
  {
   "cell_type": "code",
   "execution_count": 376,
   "metadata": {},
   "outputs": [],
   "source": [
    "import iminuit"
   ]
  },
  {
   "cell_type": "code",
   "execution_count": 377,
   "metadata": {},
   "outputs": [
    {
     "name": "stderr",
     "output_type": "stream",
     "text": [
      "/Users/asinha/anaconda3/lib/python3.6/site-packages/ipykernel_launcher.py:34: InitialParamWarning: errordef is not given. Default to 1.\n"
     ]
    }
   ],
   "source": [
    "mle = MyLikelihood(count_list=counts_map, exposure_list=exp_map, background_list=bkg_map)\n",
    "amp2 = ampl.value\n",
    "sigma2 = 1\n",
    "#create dict to pass in iminuit\n",
    "kwarg = dict(\n",
    "    lon0 =  src.galactic.l.value*1.1,\n",
    "    lat0 = src.galactic.b.value*1.1,\n",
    "    amp = amp2 * 1.1,\n",
    "    sig = sigma2,\n",
    "    error_lon0 = 0.1,\n",
    "    error_lat0 = 0.1,\n",
    "    error_amp = amp2/10.0,\n",
    "    error_sig= 0.1,\n",
    "    limit_lon0 = (260, 320),\n",
    "    limit_lat0 =(-40, -25),\n",
    "    limit_amp = (0.0, 1e-6),\n",
    "    limit_sig = (0.1, 7.0)\n",
    ")\n",
    "\n",
    "kwarg_fix = dict(\n",
    "    lon0 =  src.galactic.l.value,\n",
    "    lat0 = src.galactic.b.value,\n",
    "    amp = amp2*1.3,\n",
    "    sig = 1.2,\n",
    "    error_amp = amp2/10.0,\n",
    "    limit_amp = (0.0, 1e-6),\n",
    "    error_sig = 0.1,\n",
    "    limit_sig = (0.0, 7.0),\n",
    "    fix_sig = False,\n",
    "    fix_lon0 = True,\n",
    "    fix_lat0 = True\n",
    ")\n",
    "\n",
    "m = iminuit.Minuit(mle, **kwarg_fix)\n"
   ]
  },
  {
   "cell_type": "code",
   "execution_count": 378,
   "metadata": {},
   "outputs": [
    {
     "data": {
      "text/plain": [
       "{'amp': 6.5e-12,\n",
       " 'error_amp': 5e-13,\n",
       " 'error_sig': 0.1,\n",
       " 'fix_lat0': True,\n",
       " 'fix_lon0': True,\n",
       " 'fix_sig': False,\n",
       " 'lat0': -32.8884,\n",
       " 'limit_amp': (0.0, 1e-06),\n",
       " 'limit_sig': (0.0, 7.0),\n",
       " 'lon0': 280.4652,\n",
       " 'sig': 1.2}"
      ]
     },
     "execution_count": 378,
     "metadata": {},
     "output_type": "execute_result"
    }
   ],
   "source": [
    "kwarg_fix"
   ]
  },
  {
   "cell_type": "code",
   "execution_count": 379,
   "metadata": {},
   "outputs": [
    {
     "data": {
      "text/html": [
       "<hr>"
      ]
     },
     "metadata": {},
     "output_type": "display_data"
    },
    {
     "data": {
      "text/html": [
       "\n",
       "        <table>\n",
       "            <tr>\n",
       "                <td title=\"Minimum value of function\">FCN = -7700996.55129589</td>\n",
       "                <td title=\"Total number of call to FCN so far\">TOTAL NCALL = 62</td>\n",
       "                <td title=\"Number of call in last migrad\">NCALLS = 62</td>\n",
       "            </tr>\n",
       "            <tr>\n",
       "                <td title=\"Estimated distance to minimum\">EDM = 0.00011374148399218176</td>\n",
       "                <td title=\"Maximum EDM definition of convergence\">GOAL EDM = 1e-05</td>\n",
       "                <td title=\"Error def. Amount of increase in FCN to be defined as 1 standard deviation\">\n",
       "                UP = 1.0</td>\n",
       "            </tr>\n",
       "        </table>\n",
       "        \n",
       "        <table>\n",
       "            <tr>\n",
       "                <td align=\"center\" title=\"Validity of the migrad call\">Valid</td>\n",
       "                <td align=\"center\" title=\"Validity of parameters\">Valid Param</td>\n",
       "                <td align=\"center\" title=\"Is Covariance matrix accurate?\">Accurate Covar</td>\n",
       "                <td align=\"center\" title=\"Positive definiteness of covariance matrix\">PosDef</td>\n",
       "                <td align=\"center\" title=\"Was covariance matrix made posdef by adding diagonal element\">Made PosDef</td>\n",
       "            </tr>\n",
       "            <tr>\n",
       "                <td align=\"center\" style=\"background-color:#92CCA6\">True</td>\n",
       "                <td align=\"center\" style=\"background-color:#92CCA6\">True</td>\n",
       "                <td align=\"center\" style=\"background-color:#92CCA6\">True</td>\n",
       "                <td align=\"center\" style=\"background-color:#92CCA6\">True</td>\n",
       "                <td align=\"center\" style=\"background-color:#92CCA6\">False</td>\n",
       "            </tr>\n",
       "            <tr>\n",
       "                <td align=\"center\" title=\"Was last hesse call fail?\">Hesse Fail</td>\n",
       "                <td align=\"center\" title=\"Validity of covariance\">HasCov</td>\n",
       "                <td align=\"center\" title=\"Is EDM above goal EDM?\">Above EDM</td>\n",
       "                <td align=\"center\"></td>\n",
       "                <td align=\"center\" title=\"Did last migrad call reach max call limit?\">Reach calllim</td>\n",
       "            </tr>\n",
       "            <tr>\n",
       "                <td align=\"center\" style=\"background-color:#92CCA6\">False</td>\n",
       "                <td align=\"center\" style=\"background-color:#92CCA6\">True</td>\n",
       "                <td align=\"center\" style=\"background-color:#92CCA6\">False</td>\n",
       "                <td align=\"center\"></td>\n",
       "                <td align=\"center\" style=\"background-color:#92CCA6\">False</td>\n",
       "            </tr>\n",
       "        </table>\n",
       "        "
      ]
     },
     "metadata": {},
     "output_type": "display_data"
    },
    {
     "data": {
      "text/html": [
       "\n",
       "        <table>\n",
       "            <tr>\n",
       "                <td><a href=\"#\" onclick=\"$('#LxNcLwoONY').toggle()\">+</a></td>\n",
       "                <td title=\"Variable name\">Name</td>\n",
       "                <td title=\"Value of parameter\">Value</td>\n",
       "                <td title=\"Parabolic error\">Parab Error</td>\n",
       "                <td title=\"Minos lower error\">Minos Error-</td>\n",
       "                <td title=\"Minos upper error\">Minos Error+</td>\n",
       "                <td title=\"Lower limit of the parameter\">Limit-</td>\n",
       "                <td title=\"Upper limit of the parameter\">Limit+</td>\n",
       "                <td title=\"Is the parameter fixed in the fit\">FIXED</td>\n",
       "            </tr>\n",
       "        \n",
       "            <tr>\n",
       "                <td>1</td>\n",
       "                <td>lon0</td>\n",
       "                <td>280.465</td>\n",
       "                <td>1</td>\n",
       "                <td>0</td>\n",
       "                <td>0</td>\n",
       "                <td></td>\n",
       "                <td></td>\n",
       "                <td>FIXED</td>\n",
       "            </tr>\n",
       "            \n",
       "            <tr>\n",
       "                <td>2</td>\n",
       "                <td>lat0</td>\n",
       "                <td>-32.8884</td>\n",
       "                <td>1</td>\n",
       "                <td>0</td>\n",
       "                <td>0</td>\n",
       "                <td></td>\n",
       "                <td></td>\n",
       "                <td>FIXED</td>\n",
       "            </tr>\n",
       "            \n",
       "            <tr>\n",
       "                <td>3</td>\n",
       "                <td>sig</td>\n",
       "                <td>0.7731</td>\n",
       "                <td>0.010329</td>\n",
       "                <td>0</td>\n",
       "                <td>0</td>\n",
       "                <td>0.0</td>\n",
       "                <td>7.0</td>\n",
       "                <td></td>\n",
       "            </tr>\n",
       "            \n",
       "            <tr>\n",
       "                <td>4</td>\n",
       "                <td>amp</td>\n",
       "                <td>2.80817e-12</td>\n",
       "                <td>5.85324e-14</td>\n",
       "                <td>0</td>\n",
       "                <td>0</td>\n",
       "                <td>0.0</td>\n",
       "                <td>1e-06</td>\n",
       "                <td></td>\n",
       "            </tr>\n",
       "            \n",
       "            </table>\n",
       "        \n",
       "            <pre id=\"LxNcLwoONY\" style=\"display:none;\">\n",
       "            <textarea rows=\"14\" cols=\"50\" onclick=\"this.select()\" readonly>\\begin{tabular}{|c|r|r|r|r|r|r|r|c|}\n",
       "\\hline\n",
       " & Name & Value & Para Error & Error+ & Error- & Limit+ & Limit- & FIXED\\\\\n",
       "\\hline\n",
       "1 & lon0 & 2.805e+02 & 1.000e+00 &  &  &  &  & FIXED\\\\\n",
       "\\hline\n",
       "2 & lat0 & -3.289e+01 & 1.000e+00 &  &  &  &  & FIXED\\\\\n",
       "\\hline\n",
       "3 & sig & 7.731e-01 & 1.033e-02 &  &  & 0.000e+00 & 7.000e+00 & \\\\\n",
       "\\hline\n",
       "4 & amp & 2.808e-12 & 5.853e-14 &  &  & 0.000e+00 & 1.000e-06 & \\\\\n",
       "\\hline\n",
       "\\end{tabular}</textarea>\n",
       "            </pre>\n",
       "            "
      ]
     },
     "metadata": {},
     "output_type": "display_data"
    },
    {
     "data": {
      "text/html": [
       "<hr>"
      ]
     },
     "metadata": {},
     "output_type": "display_data"
    },
    {
     "name": "stdout",
     "output_type": "stream",
     "text": [
      "CPU times: user 438 ms, sys: 4.42 ms, total: 443 ms\n",
      "Wall time: 440 ms\n"
     ]
    },
    {
     "data": {
      "text/plain": [
       "({'fval': -7700996.55129589, 'edm': 0.00011374148399218176, 'nfcn': 62, 'up': 1.0, 'is_valid': True, 'has_valid_parameters': True, 'has_accurate_covar': True, 'has_posdef_covar': True, 'has_made_posdef_covar': False, 'hesse_failed': False, 'has_covariance': True, 'is_above_max_edm': False, 'has_reached_call_limit': False},\n",
       " [{'number': 0, 'name': 'lon0', 'value': 280.4652, 'error': 1.0, 'is_const': False, 'is_fixed': True, 'has_limits': False, 'has_lower_limit': False, 'has_upper_limit': False, 'lower_limit': 0.0, 'upper_limit': 0.0},\n",
       "  {'number': 1, 'name': 'lat0', 'value': -32.8884, 'error': 1.0, 'is_const': False, 'is_fixed': True, 'has_limits': False, 'has_lower_limit': False, 'has_upper_limit': False, 'lower_limit': 0.0, 'upper_limit': 0.0},\n",
       "  {'number': 2, 'name': 'sig', 'value': 0.7731000045543185, 'error': 0.010328970557473782, 'is_const': False, 'is_fixed': False, 'has_limits': True, 'has_lower_limit': True, 'has_upper_limit': True, 'lower_limit': 0.0, 'upper_limit': 7.0},\n",
       "  {'number': 3, 'name': 'amp', 'value': 2.808172468893311e-12, 'error': 5.853236487163294e-14, 'is_const': False, 'is_fixed': False, 'has_limits': True, 'has_lower_limit': True, 'has_upper_limit': True, 'lower_limit': 0.0, 'upper_limit': 1e-06}])"
      ]
     },
     "execution_count": 379,
     "metadata": {},
     "output_type": "execute_result"
    }
   ],
   "source": [
    "%%time\n",
    "m.migrad()"
   ]
  },
  {
   "cell_type": "code",
   "execution_count": 380,
   "metadata": {},
   "outputs": [
    {
     "data": {
      "text/plain": [
       "{'amp': 2.808172468893311e-12,\n",
       " 'lat0': -32.8884,\n",
       " 'lon0': 280.4652,\n",
       " 'sig': 0.7731000045543185}"
      ]
     },
     "execution_count": 380,
     "metadata": {},
     "output_type": "execute_result"
    }
   ],
   "source": [
    "m.values"
   ]
  },
  {
   "cell_type": "code",
   "execution_count": 381,
   "metadata": {},
   "outputs": [
    {
     "data": {
      "text/plain": [
       "{'amp': 5.853236487163294e-14,\n",
       " 'lat0': 1.0,\n",
       " 'lon0': 1.0,\n",
       " 'sig': 0.010328970557473782}"
      ]
     },
     "execution_count": 381,
     "metadata": {},
     "output_type": "execute_result"
    }
   ],
   "source": [
    "m.errors"
   ]
  },
  {
   "cell_type": "code",
   "execution_count": 382,
   "metadata": {},
   "outputs": [
    {
     "name": "stdout",
     "output_type": "stream",
     "text": [
      "1.0000000000000002 3.5215085284600565 1.0000000000000002 3.5215085284600565\n",
      "5.499999999991623e-12 7.098535000990071e-07 5.499999999991623e-12 7.098535000990071e-07\n"
     ]
    }
   ],
   "source": [
    "print(m1.values['sig'],m1.errors['sig'],m2.values['sig'],m2.errors['sig'])\n",
    "print(m1.values['amp'],m1.errors['amp'],m2.values['amp'],m2.errors['amp'])"
   ]
  },
  {
   "cell_type": "code",
   "execution_count": 383,
   "metadata": {},
   "outputs": [
    {
     "data": {
      "text/plain": [
       "<iminuit._libiminuit.Minuit at 0x18210b3168>"
      ]
     },
     "execution_count": 383,
     "metadata": {},
     "output_type": "execute_result"
    }
   ],
   "source": [
    "m\n",
    "\n"
   ]
  },
  {
   "cell_type": "code",
   "execution_count": 384,
   "metadata": {},
   "outputs": [],
   "source": [
    "maps1, comp_bk1 = mle.calc_bk(lon0, lat0, m.values['sig']*u.deg, m.values['amp']*ampl.unit)"
   ]
  },
  {
   "cell_type": "code",
   "execution_count": 385,
   "metadata": {},
   "outputs": [
    {
     "data": {
      "text/plain": [
       "[1.246292717804819,\n",
       " 1.0674230256750272,\n",
       " 0.9203215980121371,\n",
       " 0.8061458268816315,\n",
       " 0.9931636207289722,\n",
       " 1.0644262825436837,\n",
       " 0.9848543137489928,\n",
       " 1.0453936161621966,\n",
       " 1.1758851860239483,\n",
       " 0.877746071305484,\n",
       " 1.4090064173524857,\n",
       " 1.037362922201495,\n",
       " 0.9946398915449277,\n",
       " 0.8531075578107326,\n",
       " 1.3864135505489967,\n",
       " 1.2491563638816072,\n",
       " 1.1382900684671835,\n",
       " 1.0878471655120618,\n",
       " 0.9494170941841863,\n",
       " 0.982571354937956,\n",
       " 1.0197185277786793,\n",
       " 0.7766724017889602,\n",
       " 1.0876645910454146,\n",
       " 0.7148807521779362,\n",
       " 1.2161789592703416]"
      ]
     },
     "execution_count": 385,
     "metadata": {},
     "output_type": "execute_result"
    }
   ],
   "source": [
    "comp_bk1"
   ]
  },
  {
   "cell_type": "code",
   "execution_count": 386,
   "metadata": {},
   "outputs": [
    {
     "data": {
      "text/latex": [
       "$\\mathrm{\\frac{1}{TeV\\,s\\,cm^{2}}}$"
      ],
      "text/plain": [
       "Unit(\"1 / (cm2 s TeV)\")"
      ]
     },
     "execution_count": 386,
     "metadata": {},
     "output_type": "execute_result"
    }
   ],
   "source": [
    "ampl.unit"
   ]
  },
  {
   "cell_type": "code",
   "execution_count": 387,
   "metadata": {},
   "outputs": [],
   "source": [
    "t1 = mle.calc_res(src.galactic.l, src.galactic.b, m.values['sig']*u.deg, m.values['amp']*ampl.unit, )"
   ]
  },
  {
   "cell_type": "code",
   "execution_count": 388,
   "metadata": {},
   "outputs": [],
   "source": [
    "t2 = mle.calc_res(src.galactic.l, src.galactic.b, m.values['sig']*u.deg, 0.0*ampl.unit, )"
   ]
  },
  {
   "cell_type": "code",
   "execution_count": 389,
   "metadata": {},
   "outputs": [
    {
     "data": {
      "text/plain": [
       "(-7700996.55129589, -7696910.574688755, 4085.9766071345657)"
      ]
     },
     "execution_count": 389,
     "metadata": {},
     "output_type": "execute_result"
    }
   ],
   "source": [
    "t1,t2, t2-t1"
   ]
  },
  {
   "cell_type": "code",
   "execution_count": 390,
   "metadata": {},
   "outputs": [
    {
     "data": {
      "image/png": "[encoded data removed]",
      "text/plain": [
       "<matplotlib.figure.Figure at 0x1824f99470>"
      ]
     },
     "metadata": {},
     "output_type": "display_data"
    }
   ],
   "source": [
    "#get residual maps\n",
    "resmap = WcsNDMap(geom2d)\n",
    "for i in range(1):\n",
    "    bk = counts_map[i].data.sum()/background.data.sum()\n",
    "    res = counts_map[i].data - bk * background.data\n",
    "    resmap.data = resmap.data + res\n",
    "resmap.slice_by_idx({\"energy\": 0}).smooth(width=1).plot(add_cbar=True);"
   ]
  },
  {
   "cell_type": "code",
   "execution_count": 391,
   "metadata": {},
   "outputs": [
    {
     "data": {
      "image/png": "[encoded data removed]",
      "text/plain": [
       "<matplotlib.figure.Figure at 0x1825360e80>"
      ]
     },
     "metadata": {},
     "output_type": "display_data"
    }
   ],
   "source": [
    "#get residual maps with source\n",
    "resmap_src = WcsNDMap(geom2d)\n",
    "for i in range(1):\n",
    "    bk = back_factor[i]\n",
    "    res = counts_map[i].data - bk * background.data - maps1[i].data\n",
    "    resmap_src.data = resmap.data + res\n",
    "resmap_src.slice_by_idx({\"energy\": 0}).smooth(width=1).plot(add_cbar=True);"
   ]
  },
  {
   "cell_type": "code",
   "execution_count": 351,
   "metadata": {},
   "outputs": [
    {
     "data": {
      "image/png": "[encoded data removed]",
      "text/plain": [
       "<matplotlib.figure.Figure at 0x18246417b8>"
      ]
     },
     "metadata": {},
     "output_type": "display_data"
    }
   ],
   "source": [
    "maps1[0].slice_by_idx({\"energy\": 0}).smooth(width=1).plot(add_cbar=True);"
   ]
  },
  {
   "cell_type": "code",
   "execution_count": 339,
   "metadata": {},
   "outputs": [
    {
     "data": {
      "text/plain": [
       "(<matplotlib.figure.Figure at 0x1823c6a518>,\n",
       " <matplotlib.axes._subplots.WCSAxesSubplot at 0x1823ffdb70>,\n",
       " <matplotlib.colorbar.Colorbar at 0x182456e940>)"
      ]
     },
     "execution_count": 339,
     "metadata": {},
     "output_type": "execute_result"
    },
    {
     "data": {
      "image/png": "[encoded data removed]",
      "text/plain": [
       "<matplotlib.figure.Figure at 0x1823c6a518>"
      ]
     },
     "metadata": {},
     "output_type": "display_data"
    }
   ],
   "source": [
    "background.slice_by_idx({\"energy\": 0}).smooth(width=3).plot(add_cbar=True)"
   ]
  },
  {
   "cell_type": "code",
   "execution_count": 338,
   "metadata": {},
   "outputs": [
    {
     "data": {
      "text/plain": [
       "(<matplotlib.figure.Figure at 0x1823ff2da0>,\n",
       " <matplotlib.axes._subplots.WCSAxesSubplot at 0x1823d87c88>,\n",
       " <matplotlib.colorbar.Colorbar at 0x18242b5fd0>)"
      ]
     },
     "execution_count": 338,
     "metadata": {},
     "output_type": "execute_result"
    },
    {
     "data": {
      "image/png": "[encoded data removed]",
      "text/plain": [
       "<matplotlib.figure.Figure at 0x1823ff2da0>"
      ]
     },
     "metadata": {},
     "output_type": "display_data"
    }
   ],
   "source": [
    "diffuse_map[0].slice_by_idx({\"energy\": 0}).smooth(width=3).plot(add_cbar=True)"
   ]
  },
  {
   "cell_type": "code",
   "execution_count": 334,
   "metadata": {},
   "outputs": [
    {
     "data": {
      "text/plain": [
       "array([[[ 10.03776526,  11.31616328,  12.63474265,  13.74122385,\n",
       "          14.64599096,  15.35799149,  15.74695218,  15.74695218,\n",
       "          15.35799149,  14.64599096,  13.74122385,  12.63474265,\n",
       "          11.31616328,  10.03776526],\n",
       "        [ 11.32177229,  12.92363081,  13.33582109,  15.75659416,\n",
       "          16.98074254,  15.92063514,  16.41750861,  14.41750861,\n",
       "          12.92063514,  16.98074254,  15.75659416,  14.33582109,\n",
       "          12.92363081,  11.32177229],\n",
       "        [ 12.64630516,  14.34183159,  15.17890249,  15.92933055,\n",
       "          14.6249695 ,  16.94889205,  12.79826402,  10.79826402,\n",
       "          13.94889205,  17.6249695 ,  15.92933055,  14.17890249,\n",
       "          14.34183159,  12.64630516],\n",
       "        [ 13.75851559,  15.76860608,  15.93547913,  19.3303108 ,\n",
       "          10.99401047,   9.16487834,  -6.13175013,   5.86824987,\n",
       "           8.16487834,   6.99401047,  14.3303108 ,  13.93547913,\n",
       "          14.76860608,  13.75851559],\n",
       "        [ 14.66833168,  15.99821925,  17.6369346 ,   9.0001421 ,\n",
       "           0.87854204,  -0.08488162,  -9.72365939, -11.72365939,\n",
       "          -8.08488162,   3.87854204,   9.0001421 ,  16.6369346 ,\n",
       "          16.99821925,  13.66833168],\n",
       "        [ 15.38434747,  17.94249545,  15.9656562 ,   7.17729675,\n",
       "          -4.07632814, -21.88764834, -20.03712884,  12.96287116,\n",
       "          -7.88764834,   2.92367186,  10.17729675,  15.9656562 ,\n",
       "          16.94249545,  15.38434747],\n",
       "        [ 15.77577777,  13.44208172,   9.81820022,   7.88588946,\n",
       "          -0.70620703, -14.02513724,  21.86795509,  16.86795509,\n",
       "         -13.02513724,  -7.70620703,  13.88588946,  14.81820022,\n",
       "          16.44208172,  15.77577777],\n",
       "        [ 13.77637849,  14.44278397,   8.81903103,  12.88706555,\n",
       "          -1.70402536,   4.97886005,  28.87366186,  27.87366186,\n",
       "           2.97886005,  -4.70402536, -10.11293445,   7.81903103,\n",
       "          17.44278397,  15.77637849],\n",
       "        [ 15.38610507,  15.94454531,  13.96805144,   3.18040165,\n",
       "          -0.07119579,  -1.8789528 , -13.02513724,  -3.02513724,\n",
       "          -7.8789528 , -19.07119579,   5.18040165,   7.96805144,\n",
       "          17.94454531,  15.38610507],\n",
       "        [ 14.67112507,  17.00145633,  13.64067419,  13.00452217,\n",
       "          -9.11557755,  -0.07632814,   2.28724813,  -7.71275187,\n",
       "          -6.07632814,  -2.11557755,  13.00452217,  19.64067419,\n",
       "          16.00145633,  14.67112507],\n",
       "        [ 13.76218446,  15.77281097,  15.94026184,  11.33573212,\n",
       "           5.0001421 ,   9.17212218,  -7.12351874,   8.87648126,\n",
       "          -5.82787782,  16.0001421 ,  16.33573212,  16.94026184,\n",
       "          15.77281097,  13.76218446],\n",
       "        [ 12.65064201,  14.34674989,  16.18445079,  16.93547913,\n",
       "          14.63169957,  10.95607614,   9.80573938,  14.80573938,\n",
       "          17.95607614,  17.63169957,  15.93547913,  14.18445079,\n",
       "          14.34674989,  12.65064201],\n",
       "        [ 11.3265191 ,  12.92904922,  12.34183159,  15.76320034,\n",
       "          15.98786196,  16.92814862,  15.42523041,  15.42523041,\n",
       "          16.92814862,  15.98786196,  15.76320034,  14.34183159,\n",
       "          12.92904922,  11.3265191 ],\n",
       "        [ 10.04274062,  11.32177229,  12.64100524,  13.74803488,\n",
       "          14.65325045,  15.36560389,  15.75475737,  15.75475737,\n",
       "          15.36560389,  14.65325045,  13.74803488,  12.64100524,\n",
       "          11.32177229,  10.04274062]]])"
      ]
     },
     "execution_count": 334,
     "metadata": {},
     "output_type": "execute_result"
    }
   ],
   "source": [
    "resmap.data - resmap_src.data"
   ]
  },
  {
   "cell_type": "code",
   "execution_count": null,
   "metadata": {},
   "outputs": [],
   "source": []
  }
 ],
 "metadata": {
  "kernelspec": {
   "display_name": "Python 3",
   "language": "python",
   "name": "python3"
  },
  "language_info": {
   "codemirror_mode": {
    "name": "ipython",
    "version": 3
   },
   "file_extension": ".py",
   "mimetype": "text/x-python",
   "name": "python",
   "nbconvert_exporter": "python",
   "pygments_lexer": "ipython3",
   "version": "3.6.4"
  }
 },
 "nbformat": 4,
 "nbformat_minor": 2
}
